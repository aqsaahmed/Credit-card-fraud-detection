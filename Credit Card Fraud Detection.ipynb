{
 "cells": [
  {
   "cell_type": "code",
   "execution_count": 1,
   "metadata": {},
   "outputs": [
    {
     "name": "stdout",
     "output_type": "stream",
     "text": [
      "Python: 3.7.3 (default, Apr 24 2019, 15:29:51) [MSC v.1915 64 bit (AMD64)]\n",
      "Numpy: 1.16.5\n",
      "Pandas: 0.25.1\n",
      "Matplotlib: 3.1.1\n",
      "Seaborn: 0.9.0\n",
      "Scipy: 1.3.1\n"
     ]
    }
   ],
   "source": [
    "import sys\n",
    "import numpy\n",
    "import pandas\n",
    "import matplotlib\n",
    "import seaborn\n",
    "import scipy\n",
    "\n",
    "print('Python: {}'.format(sys.version))\n",
    "print('Numpy: {}'.format(numpy.__version__))\n",
    "print('Pandas: {}'.format(pandas.__version__))\n",
    "print('Matplotlib: {}'.format(matplotlib.__version__))\n",
    "print('Seaborn: {}'.format(seaborn.__version__))\n",
    "print('Scipy: {}'.format(scipy.__version__))"
   ]
  },
  {
   "cell_type": "code",
   "execution_count": 2,
   "metadata": {},
   "outputs": [],
   "source": [
    "import numpy as np\n",
    "import pandas as pd\n",
    "import matplotlib.pyplot as plt\n",
    "import seaborn as sns"
   ]
  },
  {
   "cell_type": "code",
   "execution_count": 3,
   "metadata": {},
   "outputs": [
    {
     "name": "stdout",
     "output_type": "stream",
     "text": [
      "Index(['Time', 'V1', 'V2', 'V3', 'V4', 'V5', 'V6', 'V7', 'V8', 'V9', 'V10',\n",
      "       'V11', 'V12', 'V13', 'V14', 'V15', 'V16', 'V17', 'V18', 'V19', 'V20',\n",
      "       'V21', 'V22', 'V23', 'V24', 'V25', 'V26', 'V27', 'V28', 'Amount',\n",
      "       'Class'],\n",
      "      dtype='object')\n"
     ]
    }
   ],
   "source": [
    "data = pd.read_csv('creditcard.csv')\n",
    "print(data.columns)"
   ]
  },
  {
   "cell_type": "code",
   "execution_count": 4,
   "metadata": {},
   "outputs": [
    {
     "data": {
      "text/html": [
       "<div>\n",
       "<style scoped>\n",
       "    .dataframe tbody tr th:only-of-type {\n",
       "        vertical-align: middle;\n",
       "    }\n",
       "\n",
       "    .dataframe tbody tr th {\n",
       "        vertical-align: top;\n",
       "    }\n",
       "\n",
       "    .dataframe thead th {\n",
       "        text-align: right;\n",
       "    }\n",
       "</style>\n",
       "<table border=\"1\" class=\"dataframe\">\n",
       "  <thead>\n",
       "    <tr style=\"text-align: right;\">\n",
       "      <th></th>\n",
       "      <th>Time</th>\n",
       "      <th>V1</th>\n",
       "      <th>V2</th>\n",
       "      <th>V3</th>\n",
       "      <th>V4</th>\n",
       "      <th>V5</th>\n",
       "      <th>V6</th>\n",
       "      <th>V7</th>\n",
       "      <th>V8</th>\n",
       "      <th>V9</th>\n",
       "      <th>...</th>\n",
       "      <th>V21</th>\n",
       "      <th>V22</th>\n",
       "      <th>V23</th>\n",
       "      <th>V24</th>\n",
       "      <th>V25</th>\n",
       "      <th>V26</th>\n",
       "      <th>V27</th>\n",
       "      <th>V28</th>\n",
       "      <th>Amount</th>\n",
       "      <th>Class</th>\n",
       "    </tr>\n",
       "  </thead>\n",
       "  <tbody>\n",
       "    <tr>\n",
       "      <td>0</td>\n",
       "      <td>0.0</td>\n",
       "      <td>-1.359807</td>\n",
       "      <td>-0.072781</td>\n",
       "      <td>2.536347</td>\n",
       "      <td>1.378155</td>\n",
       "      <td>-0.338321</td>\n",
       "      <td>0.462388</td>\n",
       "      <td>0.239599</td>\n",
       "      <td>0.098698</td>\n",
       "      <td>0.363787</td>\n",
       "      <td>...</td>\n",
       "      <td>-0.018307</td>\n",
       "      <td>0.277838</td>\n",
       "      <td>-0.110474</td>\n",
       "      <td>0.066928</td>\n",
       "      <td>0.128539</td>\n",
       "      <td>-0.189115</td>\n",
       "      <td>0.133558</td>\n",
       "      <td>-0.021053</td>\n",
       "      <td>149.62</td>\n",
       "      <td>0</td>\n",
       "    </tr>\n",
       "    <tr>\n",
       "      <td>1</td>\n",
       "      <td>0.0</td>\n",
       "      <td>1.191857</td>\n",
       "      <td>0.266151</td>\n",
       "      <td>0.166480</td>\n",
       "      <td>0.448154</td>\n",
       "      <td>0.060018</td>\n",
       "      <td>-0.082361</td>\n",
       "      <td>-0.078803</td>\n",
       "      <td>0.085102</td>\n",
       "      <td>-0.255425</td>\n",
       "      <td>...</td>\n",
       "      <td>-0.225775</td>\n",
       "      <td>-0.638672</td>\n",
       "      <td>0.101288</td>\n",
       "      <td>-0.339846</td>\n",
       "      <td>0.167170</td>\n",
       "      <td>0.125895</td>\n",
       "      <td>-0.008983</td>\n",
       "      <td>0.014724</td>\n",
       "      <td>2.69</td>\n",
       "      <td>0</td>\n",
       "    </tr>\n",
       "    <tr>\n",
       "      <td>2</td>\n",
       "      <td>1.0</td>\n",
       "      <td>-1.358354</td>\n",
       "      <td>-1.340163</td>\n",
       "      <td>1.773209</td>\n",
       "      <td>0.379780</td>\n",
       "      <td>-0.503198</td>\n",
       "      <td>1.800499</td>\n",
       "      <td>0.791461</td>\n",
       "      <td>0.247676</td>\n",
       "      <td>-1.514654</td>\n",
       "      <td>...</td>\n",
       "      <td>0.247998</td>\n",
       "      <td>0.771679</td>\n",
       "      <td>0.909412</td>\n",
       "      <td>-0.689281</td>\n",
       "      <td>-0.327642</td>\n",
       "      <td>-0.139097</td>\n",
       "      <td>-0.055353</td>\n",
       "      <td>-0.059752</td>\n",
       "      <td>378.66</td>\n",
       "      <td>0</td>\n",
       "    </tr>\n",
       "    <tr>\n",
       "      <td>3</td>\n",
       "      <td>1.0</td>\n",
       "      <td>-0.966272</td>\n",
       "      <td>-0.185226</td>\n",
       "      <td>1.792993</td>\n",
       "      <td>-0.863291</td>\n",
       "      <td>-0.010309</td>\n",
       "      <td>1.247203</td>\n",
       "      <td>0.237609</td>\n",
       "      <td>0.377436</td>\n",
       "      <td>-1.387024</td>\n",
       "      <td>...</td>\n",
       "      <td>-0.108300</td>\n",
       "      <td>0.005274</td>\n",
       "      <td>-0.190321</td>\n",
       "      <td>-1.175575</td>\n",
       "      <td>0.647376</td>\n",
       "      <td>-0.221929</td>\n",
       "      <td>0.062723</td>\n",
       "      <td>0.061458</td>\n",
       "      <td>123.50</td>\n",
       "      <td>0</td>\n",
       "    </tr>\n",
       "    <tr>\n",
       "      <td>4</td>\n",
       "      <td>2.0</td>\n",
       "      <td>-1.158233</td>\n",
       "      <td>0.877737</td>\n",
       "      <td>1.548718</td>\n",
       "      <td>0.403034</td>\n",
       "      <td>-0.407193</td>\n",
       "      <td>0.095921</td>\n",
       "      <td>0.592941</td>\n",
       "      <td>-0.270533</td>\n",
       "      <td>0.817739</td>\n",
       "      <td>...</td>\n",
       "      <td>-0.009431</td>\n",
       "      <td>0.798278</td>\n",
       "      <td>-0.137458</td>\n",
       "      <td>0.141267</td>\n",
       "      <td>-0.206010</td>\n",
       "      <td>0.502292</td>\n",
       "      <td>0.219422</td>\n",
       "      <td>0.215153</td>\n",
       "      <td>69.99</td>\n",
       "      <td>0</td>\n",
       "    </tr>\n",
       "  </tbody>\n",
       "</table>\n",
       "<p>5 rows × 31 columns</p>\n",
       "</div>"
      ],
      "text/plain": [
       "   Time        V1        V2        V3        V4        V5        V6        V7  \\\n",
       "0   0.0 -1.359807 -0.072781  2.536347  1.378155 -0.338321  0.462388  0.239599   \n",
       "1   0.0  1.191857  0.266151  0.166480  0.448154  0.060018 -0.082361 -0.078803   \n",
       "2   1.0 -1.358354 -1.340163  1.773209  0.379780 -0.503198  1.800499  0.791461   \n",
       "3   1.0 -0.966272 -0.185226  1.792993 -0.863291 -0.010309  1.247203  0.237609   \n",
       "4   2.0 -1.158233  0.877737  1.548718  0.403034 -0.407193  0.095921  0.592941   \n",
       "\n",
       "         V8        V9  ...       V21       V22       V23       V24       V25  \\\n",
       "0  0.098698  0.363787  ... -0.018307  0.277838 -0.110474  0.066928  0.128539   \n",
       "1  0.085102 -0.255425  ... -0.225775 -0.638672  0.101288 -0.339846  0.167170   \n",
       "2  0.247676 -1.514654  ...  0.247998  0.771679  0.909412 -0.689281 -0.327642   \n",
       "3  0.377436 -1.387024  ... -0.108300  0.005274 -0.190321 -1.175575  0.647376   \n",
       "4 -0.270533  0.817739  ... -0.009431  0.798278 -0.137458  0.141267 -0.206010   \n",
       "\n",
       "        V26       V27       V28  Amount  Class  \n",
       "0 -0.189115  0.133558 -0.021053  149.62      0  \n",
       "1  0.125895 -0.008983  0.014724    2.69      0  \n",
       "2 -0.139097 -0.055353 -0.059752  378.66      0  \n",
       "3 -0.221929  0.062723  0.061458  123.50      0  \n",
       "4  0.502292  0.219422  0.215153   69.99      0  \n",
       "\n",
       "[5 rows x 31 columns]"
      ]
     },
     "execution_count": 4,
     "metadata": {},
     "output_type": "execute_result"
    }
   ],
   "source": [
    "data.head()"
   ]
  },
  {
   "cell_type": "code",
   "execution_count": 5,
   "metadata": {},
   "outputs": [
    {
     "name": "stdout",
     "output_type": "stream",
     "text": [
      "(284807, 31)\n"
     ]
    }
   ],
   "source": [
    "print(data.shape)"
   ]
  },
  {
   "cell_type": "code",
   "execution_count": 6,
   "metadata": {},
   "outputs": [
    {
     "name": "stdout",
     "output_type": "stream",
     "text": [
      "<class 'pandas.core.frame.DataFrame'>\n",
      "RangeIndex: 284807 entries, 0 to 284806\n",
      "Data columns (total 31 columns):\n",
      "Time      284807 non-null float64\n",
      "V1        284807 non-null float64\n",
      "V2        284807 non-null float64\n",
      "V3        284807 non-null float64\n",
      "V4        284807 non-null float64\n",
      "V5        284807 non-null float64\n",
      "V6        284807 non-null float64\n",
      "V7        284807 non-null float64\n",
      "V8        284807 non-null float64\n",
      "V9        284807 non-null float64\n",
      "V10       284807 non-null float64\n",
      "V11       284807 non-null float64\n",
      "V12       284807 non-null float64\n",
      "V13       284807 non-null float64\n",
      "V14       284807 non-null float64\n",
      "V15       284807 non-null float64\n",
      "V16       284807 non-null float64\n",
      "V17       284807 non-null float64\n",
      "V18       284807 non-null float64\n",
      "V19       284807 non-null float64\n",
      "V20       284807 non-null float64\n",
      "V21       284807 non-null float64\n",
      "V22       284807 non-null float64\n",
      "V23       284807 non-null float64\n",
      "V24       284807 non-null float64\n",
      "V25       284807 non-null float64\n",
      "V26       284807 non-null float64\n",
      "V27       284807 non-null float64\n",
      "V28       284807 non-null float64\n",
      "Amount    284807 non-null float64\n",
      "Class     284807 non-null int64\n",
      "dtypes: float64(30), int64(1)\n",
      "memory usage: 67.4 MB\n"
     ]
    }
   ],
   "source": [
    "data.info()"
   ]
  },
  {
   "cell_type": "code",
   "execution_count": 7,
   "metadata": {},
   "outputs": [
    {
     "data": {
      "text/plain": [
       "Time      False\n",
       "V1        False\n",
       "V2        False\n",
       "V3        False\n",
       "V4        False\n",
       "V5        False\n",
       "V6        False\n",
       "V7        False\n",
       "V8        False\n",
       "V9        False\n",
       "V10       False\n",
       "V11       False\n",
       "V12       False\n",
       "V13       False\n",
       "V14       False\n",
       "V15       False\n",
       "V16       False\n",
       "V17       False\n",
       "V18       False\n",
       "V19       False\n",
       "V20       False\n",
       "V21       False\n",
       "V22       False\n",
       "V23       False\n",
       "V24       False\n",
       "V25       False\n",
       "V26       False\n",
       "V27       False\n",
       "V28       False\n",
       "Amount    False\n",
       "Class     False\n",
       "dtype: bool"
      ]
     },
     "execution_count": 7,
     "metadata": {},
     "output_type": "execute_result"
    }
   ],
   "source": [
    "data.isna().any()"
   ]
  },
  {
   "cell_type": "code",
   "execution_count": 8,
   "metadata": {},
   "outputs": [
    {
     "data": {
      "text/plain": [
       "0    284315\n",
       "1       492\n",
       "Name: Class, dtype: int64"
      ]
     },
     "execution_count": 8,
     "metadata": {},
     "output_type": "execute_result"
    }
   ],
   "source": [
    "# For counting how many fradulent and non fradulent transactions are in the dataset.\n",
    "data.Class.value_counts()"
   ]
  },
  {
   "cell_type": "code",
   "execution_count": 9,
   "metadata": {},
   "outputs": [
    {
     "name": "stdout",
     "output_type": "stream",
     "text": [
      "There were 284315 non-fraudulent transactions (99.827%) and 492 fraudulent transactions (0.173%).\n"
     ]
    }
   ],
   "source": [
    "counts = data.Class.value_counts()\n",
    "normal = counts[0]\n",
    "fraudulent = counts[1]\n",
    "perc_normal = (normal/(normal+fraudulent))*100\n",
    "perc_fraudulent = (fraudulent/(normal+fraudulent))*100\n",
    "print('There were {} non-fraudulent transactions ({:.3f}%) and {} fraudulent transactions ({:.3f}%).'.format(normal, perc_normal, fraudulent, perc_fraudulent))"
   ]
  },
  {
   "cell_type": "code",
   "execution_count": 10,
   "metadata": {},
   "outputs": [
    {
     "data": {
      "text/plain": [
       "<matplotlib.axes._subplots.AxesSubplot at 0x235da2139e8>"
      ]
     },
     "execution_count": 10,
     "metadata": {},
     "output_type": "execute_result"
    },
    {
     "data": {
      "image/png": "[encoded data removed]",
      "text/plain": [
       "<Figure size 432x288 with 1 Axes>"
      ]
     },
     "metadata": {
      "needs_background": "light"
     },
     "output_type": "display_data"
    }
   ],
   "source": [
    "# Conclusion- not dependent on time\n",
    "sns.distplot(data.Time)"
   ]
  },
  {
   "cell_type": "code",
   "execution_count": 11,
   "metadata": {},
   "outputs": [
    {
     "data": {
      "text/plain": [
       "<matplotlib.axes._subplots.AxesSubplot at 0x235da379f28>"
      ]
     },
     "execution_count": 11,
     "metadata": {},
     "output_type": "execute_result"
    },
    {
     "data": {
      "image/png": "[encoded data removed]",
      "text/plain": [
       "<Figure size 432x288 with 1 Axes>"
      ]
     },
     "metadata": {
      "needs_background": "light"
     },
     "output_type": "display_data"
    }
   ],
   "source": [
    "sns.distplot(data.Amount)"
   ]
  },
  {
   "cell_type": "code",
   "execution_count": 12,
   "metadata": {},
   "outputs": [
    {
     "data": {
      "text/plain": [
       "Text(0.5, 0, 'Class (0:Non-Fraudulent, 1:Fraudulent)')"
      ]
     },
     "execution_count": 12,
     "metadata": {},
     "output_type": "execute_result"
    },
    {
     "data": {
      "image/png": "[encoded data removed]",
      "text/plain": [
       "<Figure size 432x288 with 1 Axes>"
      ]
     },
     "metadata": {
      "needs_background": "light"
     },
     "output_type": "display_data"
    }
   ],
   "source": [
    "sns.barplot(x=counts.index, y=counts)\n",
    "plt.title('Count of Fraudulent vs. Non-Fraudulent Transactions')\n",
    "plt.ylabel('Count')\n",
    "plt.xlabel('Class (0:Non-Fraudulent, 1:Fraudulent)')"
   ]
  },
  {
   "cell_type": "code",
   "execution_count": 13,
   "metadata": {},
   "outputs": [
    {
     "data": {
      "text/plain": [
       "((199364, 31), (85443, 31))"
      ]
     },
     "execution_count": 13,
     "metadata": {},
     "output_type": "execute_result"
    }
   ],
   "source": [
    "# Splitting the dataset into 70% train and 30% test.\n",
    "from sklearn.model_selection import train_test_split\n",
    "train,test=train_test_split(data,test_size=0.3)\n",
    "train.shape, test.shape"
   ]
  },
  {
   "cell_type": "code",
   "execution_count": 14,
   "metadata": {},
   "outputs": [],
   "source": [
    "train_X=train[[\"Time\",\"V1\",\"V2\",\"V3\",\"V4\",\"V5\",\"V6\",\"V7\",\"V8\",\"V9\",\"V10\",\"V11\",\"V12\",\"V13\",\"V14\",\"V15\",\"V16\",\"V17\",\"V18\",\"V19\",\"V20\",\"V21\",\"V22\",\"V23\",\"V24\",\"V25\",\"V26\",\"V27\",\"V28\",\"Amount\"]]\n",
    "train_y=train.Class\n",
    "test_X=test[[\"Time\",\"V1\",\"V2\",\"V3\",\"V4\",\"V5\",\"V6\",\"V7\",\"V8\",\"V9\",\"V10\",\"V11\",\"V12\",\"V13\",\"V14\",\"V15\",\"V16\",\"V17\",\"V18\",\"V19\",\"V20\",\"V21\",\"V22\",\"V23\",\"V24\",\"V25\",\"V26\",\"V27\",\"V28\",\"Amount\"]]\n",
    "test_y=test.Class"
   ]
  },
  {
   "cell_type": "code",
   "execution_count": 15,
   "metadata": {},
   "outputs": [],
   "source": [
    "# Building Models\n",
    "# Comparing Models\n",
    "import sklearn"
   ]
  },
  {
   "cell_type": "code",
   "execution_count": 16,
   "metadata": {},
   "outputs": [],
   "source": [
    "# Decision Tree\n",
    "from sklearn.tree import DecisionTreeClassifier\n",
    "tree=DecisionTreeClassifier(random_state=0).fit(train_X,train_y)\n",
    "y_test_probs=tree.predict_proba(test_X)[:,1]\n",
    "y_train_probs=tree.predict_proba(train_X)[:,1]"
   ]
  },
  {
   "cell_type": "code",
   "execution_count": 17,
   "metadata": {},
   "outputs": [
    {
     "name": "stdout",
     "output_type": "stream",
     "text": [
      "Area under precision recall curve for tree modal for train set :  1.0\n",
      "Area under precision recall curve for tree modal for test set :  0.7555875247319456\n"
     ]
    }
   ],
   "source": [
    "from sklearn.metrics import precision_recall_curve,auc\n",
    "precision_test,recall_test,thresholds_test=precision_recall_curve(test_y,y_test_probs)\n",
    "area_test=auc(recall_test,precision_test)\n",
    "\n",
    "precision_tr,recall_tr,thresholds_tr=precision_recall_curve(train_y,y_train_probs)\n",
    "area_tr=auc(recall_tr,precision_tr)\n",
    "\n",
    "print(\"Area under precision recall curve for tree modal for train set : \",area_tr)\n",
    "print(\"Area under precision recall curve for tree modal for test set : \",area_test)"
   ]
  },
  {
   "cell_type": "code",
   "execution_count": 18,
   "metadata": {},
   "outputs": [
    {
     "name": "stderr",
     "output_type": "stream",
     "text": [
      "C:\\Users\\user\\Anaconda3\\lib\\site-packages\\sklearn\\ensemble\\forest.py:245: FutureWarning: The default value of n_estimators will change from 10 in version 0.20 to 100 in 0.22.\n",
      "  \"10 in version 0.20 to 100 in 0.22.\", FutureWarning)\n"
     ]
    }
   ],
   "source": [
    "# RandomForest\n",
    "from sklearn.ensemble import RandomForestClassifier\n",
    "forest=RandomForestClassifier(random_state=0).fit(train_X,train_y)\n",
    "y_test_probs=forest.predict_proba(test_X)[:,1]\n",
    "y_train_probs=forest.predict_proba(train_X)[:,1]"
   ]
  },
  {
   "cell_type": "code",
   "execution_count": 19,
   "metadata": {},
   "outputs": [
    {
     "name": "stdout",
     "output_type": "stream",
     "text": [
      "Area under precision recall curve for RF modal for train set :  0.9993979184594997\n",
      "Area under precision recall curve for RF modal for test set :  0.8110459880565977\n"
     ]
    }
   ],
   "source": [
    "from sklearn.metrics import precision_recall_curve,auc\n",
    "precision_test,recall_test,thresholds_test=precision_recall_curve(test_y,y_test_probs)\n",
    "area_test=auc(recall_test,precision_test)\n",
    "\n",
    "precision_tr,recall_tr,thresholds_tr=precision_recall_curve(train_y,y_train_probs)\n",
    "area_tr=auc(recall_tr,precision_tr)\n",
    "\n",
    "print(\"Area under precision recall curve for RF modal for train set : \",area_tr)\n",
    "print(\"Area under precision recall curve for RF modal for test set : \",area_test)"
   ]
  },
  {
   "cell_type": "code",
   "execution_count": 20,
   "metadata": {},
   "outputs": [
    {
     "name": "stderr",
     "output_type": "stream",
     "text": [
      "C:\\Users\\user\\Anaconda3\\lib\\site-packages\\sklearn\\linear_model\\logistic.py:432: FutureWarning: Default solver will be changed to 'lbfgs' in 0.22. Specify a solver to silence this warning.\n",
      "  FutureWarning)\n"
     ]
    },
    {
     "name": "stdout",
     "output_type": "stream",
     "text": [
      "              precision    recall  f1-score   support\n",
      "\n",
      "           0       1.00      1.00      1.00     85284\n",
      "           1       0.68      0.51      0.58       159\n",
      "\n",
      "    accuracy                           1.00     85443\n",
      "   macro avg       0.84      0.75      0.79     85443\n",
      "weighted avg       1.00      1.00      1.00     85443\n",
      "\n"
     ]
    }
   ],
   "source": [
    "# Logistic Regression\n",
    "from sklearn.linear_model import LogisticRegression\n",
    "classifier=LogisticRegression(random_state=0).fit(train_X,train_y)\n",
    "\n",
    "# Predicting test set\n",
    "pred_y = classifier.predict(test_X)\n",
    "from sklearn.metrics import classification_report\n",
    "print(classification_report(test_y,pred_y))"
   ]
  },
  {
   "cell_type": "code",
   "execution_count": 21,
   "metadata": {},
   "outputs": [
    {
     "name": "stderr",
     "output_type": "stream",
     "text": [
      "Using TensorFlow backend.\n"
     ]
    }
   ],
   "source": [
    "import keras\n",
    "from keras.models import Sequential\n",
    "from keras.layers import Dense"
   ]
  },
  {
   "cell_type": "code",
   "execution_count": 22,
   "metadata": {},
   "outputs": [
    {
     "name": "stdout",
     "output_type": "stream",
     "text": [
      "WARNING:tensorflow:From C:\\Users\\user\\Anaconda3\\lib\\site-packages\\keras\\backend\\tensorflow_backend.py:74: The name tf.get_default_graph is deprecated. Please use tf.compat.v1.get_default_graph instead.\n",
      "\n",
      "WARNING:tensorflow:From C:\\Users\\user\\Anaconda3\\lib\\site-packages\\keras\\backend\\tensorflow_backend.py:517: The name tf.placeholder is deprecated. Please use tf.compat.v1.placeholder instead.\n",
      "\n",
      "WARNING:tensorflow:From C:\\Users\\user\\Anaconda3\\lib\\site-packages\\keras\\backend\\tensorflow_backend.py:4138: The name tf.random_uniform is deprecated. Please use tf.random.uniform instead.\n",
      "\n",
      "WARNING:tensorflow:From C:\\Users\\user\\Anaconda3\\lib\\site-packages\\keras\\optimizers.py:790: The name tf.train.Optimizer is deprecated. Please use tf.compat.v1.train.Optimizer instead.\n",
      "\n",
      "WARNING:tensorflow:From C:\\Users\\user\\Anaconda3\\lib\\site-packages\\keras\\backend\\tensorflow_backend.py:3376: The name tf.log is deprecated. Please use tf.math.log instead.\n",
      "\n",
      "WARNING:tensorflow:From C:\\Users\\user\\Anaconda3\\lib\\site-packages\\tensorflow\\python\\ops\\nn_impl.py:180: add_dispatch_support.<locals>.wrapper (from tensorflow.python.ops.array_ops) is deprecated and will be removed in a future version.\n",
      "Instructions for updating:\n",
      "Use tf.where in 2.0, which has the same broadcast rule as np.where\n",
      "WARNING:tensorflow:From C:\\Users\\user\\Anaconda3\\lib\\site-packages\\keras\\backend\\tensorflow_backend.py:986: The name tf.assign_add is deprecated. Please use tf.compat.v1.assign_add instead.\n",
      "\n",
      "Epoch 1/100\n",
      "199364/199364 [==============================] - 40s 200us/step - loss: 0.0270 - acc: 0.9983\n",
      "Epoch 2/100\n",
      "199364/199364 [==============================] - 35s 175us/step - loss: 0.0269 - acc: 0.9983\n",
      "Epoch 3/100\n",
      "199364/199364 [==============================] - 39s 194us/step - loss: 0.0269 - acc: 0.9983\n",
      "Epoch 4/100\n",
      "199364/199364 [==============================] - 39s 194us/step - loss: 0.0269 - acc: 0.9983\n",
      "Epoch 5/100\n",
      "199364/199364 [==============================] - 37s 184us/step - loss: 0.0269 - acc: 0.9983\n",
      "Epoch 6/100\n",
      "199364/199364 [==============================] - 31s 157us/step - loss: 0.0269 - acc: 0.9983\n",
      "Epoch 7/100\n",
      "199364/199364 [==============================] - 36s 180us/step - loss: 0.0269 - acc: 0.9983\n",
      "Epoch 8/100\n",
      "199364/199364 [==============================] - 34s 169us/step - loss: 0.0269 - acc: 0.9983\n",
      "Epoch 9/100\n",
      "199364/199364 [==============================] - 36s 180us/step - loss: 0.0269 - acc: 0.9983\n",
      "Epoch 10/100\n",
      "199364/199364 [==============================] - 31s 156us/step - loss: 0.0269 - acc: 0.9983\n",
      "Epoch 11/100\n",
      "199364/199364 [==============================] - 32s 158us/step - loss: 0.0269 - acc: 0.9983\n",
      "Epoch 12/100\n",
      "199364/199364 [==============================] - 31s 156us/step - loss: 0.0269 - acc: 0.9983\n",
      "Epoch 13/100\n",
      "199364/199364 [==============================] - 28s 140us/step - loss: 0.0269 - acc: 0.9983\n",
      "Epoch 14/100\n",
      "199364/199364 [==============================] - 28s 140us/step - loss: 0.0269 - acc: 0.9983\n",
      "Epoch 15/100\n",
      "199364/199364 [==============================] - 33s 166us/step - loss: 0.0269 - acc: 0.9983\n",
      "Epoch 16/100\n",
      "199364/199364 [==============================] - 32s 160us/step - loss: 0.0269 - acc: 0.9983\n",
      "Epoch 17/100\n",
      "199364/199364 [==============================] - 35s 175us/step - loss: 0.0269 - acc: 0.9983\n",
      "Epoch 18/100\n",
      "199364/199364 [==============================] - 26s 131us/step - loss: 0.0269 - acc: 0.9983\n",
      "Epoch 19/100\n",
      "199364/199364 [==============================] - 34s 171us/step - loss: 0.0269 - acc: 0.9983\n",
      "Epoch 20/100\n",
      "199364/199364 [==============================] - 38s 191us/step - loss: 0.0269 - acc: 0.9983\n",
      "Epoch 21/100\n",
      "199364/199364 [==============================] - 39s 195us/step - loss: 0.0269 - acc: 0.9983\n",
      "Epoch 22/100\n",
      "199364/199364 [==============================] - 40s 202us/step - loss: 0.0269 - acc: 0.9983\n",
      "Epoch 23/100\n",
      "199364/199364 [==============================] - 32s 160us/step - loss: 0.0269 - acc: 0.9983\n",
      "Epoch 24/100\n",
      "199364/199364 [==============================] - 26s 132us/step - loss: 0.0269 - acc: 0.9983\n",
      "Epoch 25/100\n",
      "199364/199364 [==============================] - 27s 138us/step - loss: 0.0269 - acc: 0.9983\n",
      "Epoch 26/100\n",
      "199364/199364 [==============================] - 31s 153us/step - loss: 0.0269 - acc: 0.9983\n",
      "Epoch 27/100\n",
      "199364/199364 [==============================] - 34s 168us/step - loss: 0.0269 - acc: 0.9983\n",
      "Epoch 28/100\n",
      "199364/199364 [==============================] - 36s 180us/step - loss: 0.0269 - acc: 0.9983\n",
      "Epoch 29/100\n",
      "199364/199364 [==============================] - 33s 165us/step - loss: 0.0269 - acc: 0.9983\n",
      "Epoch 30/100\n",
      "199364/199364 [==============================] - 36s 178us/step - loss: 0.0269 - acc: 0.9983\n",
      "Epoch 31/100\n",
      "199364/199364 [==============================] - 35s 174us/step - loss: 0.0269 - acc: 0.9983\n",
      "Epoch 32/100\n",
      "199364/199364 [==============================] - 37s 187us/step - loss: 0.0269 - acc: 0.9983\n",
      "Epoch 33/100\n",
      "199364/199364 [==============================] - 34s 169us/step - loss: 0.0269 - acc: 0.9983\n",
      "Epoch 34/100\n",
      "199364/199364 [==============================] - 37s 187us/step - loss: 0.0269 - acc: 0.9983\n",
      "Epoch 35/100\n",
      "199364/199364 [==============================] - 37s 184us/step - loss: 0.0269 - acc: 0.9983\n",
      "Epoch 36/100\n",
      "199364/199364 [==============================] - 35s 177us/step - loss: 0.0269 - acc: 0.9983\n",
      "Epoch 37/100\n",
      "199364/199364 [==============================] - 37s 186us/step - loss: 0.0269 - acc: 0.9983\n",
      "Epoch 38/100\n",
      "199364/199364 [==============================] - 35s 176us/step - loss: 0.0269 - acc: 0.9983\n",
      "Epoch 39/100\n",
      "199364/199364 [==============================] - 36s 179us/step - loss: 0.0269 - acc: 0.9983\n",
      "Epoch 40/100\n",
      "199364/199364 [==============================] - 35s 176us/step - loss: 0.0269 - acc: 0.9983\n",
      "Epoch 41/100\n",
      "199364/199364 [==============================] - 33s 165us/step - loss: 0.0269 - acc: 0.9983\n",
      "Epoch 42/100\n",
      "199364/199364 [==============================] - 36s 178us/step - loss: 0.0269 - acc: 0.9983\n",
      "Epoch 43/100\n",
      "199364/199364 [==============================] - 35s 174us/step - loss: 0.0269 - acc: 0.9983\n",
      "Epoch 44/100\n",
      "199364/199364 [==============================] - 33s 167us/step - loss: 0.0269 - acc: 0.9983\n",
      "Epoch 45/100\n",
      "199364/199364 [==============================] - 36s 181us/step - loss: 0.0269 - acc: 0.9983\n",
      "Epoch 46/100\n",
      "199364/199364 [==============================] - 36s 182us/step - loss: 0.0269 - acc: 0.9983\n",
      "Epoch 47/100\n",
      "199364/199364 [==============================] - 34s 172us/step - loss: 0.0269 - acc: 0.9983\n",
      "Epoch 48/100\n",
      "199364/199364 [==============================] - 35s 178us/step - loss: 0.0269 - acc: 0.9983\n",
      "Epoch 49/100\n",
      "199364/199364 [==============================] - 37s 188us/step - loss: 0.0269 - acc: 0.9983\n",
      "Epoch 50/100\n",
      "199364/199364 [==============================] - 39s 195us/step - loss: 0.0269 - acc: 0.9983\n",
      "Epoch 51/100\n",
      "199364/199364 [==============================] - 40s 198us/step - loss: 0.0269 - acc: 0.9983\n",
      "Epoch 52/100\n",
      "199364/199364 [==============================] - 38s 191us/step - loss: 0.0269 - acc: 0.9983\n",
      "Epoch 53/100\n",
      "199364/199364 [==============================] - 41s 204us/step - loss: 0.0269 - acc: 0.9983\n",
      "Epoch 54/100\n",
      "199364/199364 [==============================] - 39s 196us/step - loss: 0.0269 - acc: 0.9983\n",
      "Epoch 55/100\n",
      "199364/199364 [==============================] - 39s 197us/step - loss: 0.0269 - acc: 0.9983\n",
      "Epoch 56/100\n",
      "199364/199364 [==============================] - 34s 171us/step - loss: 0.0269 - acc: 0.9983\n",
      "Epoch 57/100\n",
      "199364/199364 [==============================] - 33s 168us/step - loss: 0.0269 - acc: 0.9983\n",
      "Epoch 58/100\n",
      "199364/199364 [==============================] - 33s 165us/step - loss: 0.0269 - acc: 0.9983\n",
      "Epoch 59/100\n",
      "199364/199364 [==============================] - 33s 168us/step - loss: 0.0269 - acc: 0.9983\n",
      "Epoch 60/100\n",
      "199364/199364 [==============================] - 33s 167us/step - loss: 0.0269 - acc: 0.9983\n",
      "Epoch 61/100\n",
      "199364/199364 [==============================] - 33s 165us/step - loss: 0.0269 - acc: 0.9983\n",
      "Epoch 62/100\n",
      "199364/199364 [==============================] - 34s 169us/step - loss: 0.0269 - acc: 0.9983\n",
      "Epoch 63/100\n",
      "199364/199364 [==============================] - 32s 161us/step - loss: 0.0269 - acc: 0.9983\n",
      "Epoch 64/100\n",
      "199364/199364 [==============================] - 34s 169us/step - loss: 0.0269 - acc: 0.9983\n",
      "Epoch 65/100\n",
      "199364/199364 [==============================] - 34s 170us/step - loss: 0.0269 - acc: 0.9983\n",
      "Epoch 66/100\n",
      "199364/199364 [==============================] - 34s 170us/step - loss: 0.0269 - acc: 0.9983\n",
      "Epoch 67/100\n",
      "199364/199364 [==============================] - 34s 171us/step - loss: 0.0269 - acc: 0.9983\n",
      "Epoch 68/100\n",
      "199364/199364 [==============================] - 34s 171us/step - loss: 0.0269 - acc: 0.9983\n",
      "Epoch 69/100\n",
      "199364/199364 [==============================] - 33s 166us/step - loss: 0.0269 - acc: 0.9983\n",
      "Epoch 70/100\n",
      "199364/199364 [==============================] - 32s 161us/step - loss: 0.0269 - acc: 0.9983\n",
      "Epoch 71/100\n",
      "199364/199364 [==============================] - 34s 169us/step - loss: 0.0269 - acc: 0.9983\n",
      "Epoch 72/100\n",
      "199364/199364 [==============================] - 34s 173us/step - loss: 0.0269 - acc: 0.9983\n",
      "Epoch 73/100\n",
      "199364/199364 [==============================] - 34s 171us/step - loss: 0.0269 - acc: 0.9983\n",
      "Epoch 74/100\n",
      "199364/199364 [==============================] - 35s 174us/step - loss: 0.0269 - acc: 0.9983\n",
      "Epoch 75/100\n",
      "199364/199364 [==============================] - 34s 172us/step - loss: 0.0269 - acc: 0.9983\n",
      "Epoch 76/100\n",
      "199364/199364 [==============================] - 34s 171us/step - loss: 0.0269 - acc: 0.9983\n",
      "Epoch 77/100\n",
      "199364/199364 [==============================] - 33s 166us/step - loss: 0.0269 - acc: 0.9983\n",
      "Epoch 78/100\n",
      "199364/199364 [==============================] - 33s 168us/step - loss: 0.0269 - acc: 0.9983\n",
      "Epoch 79/100\n",
      "199364/199364 [==============================] - 35s 175us/step - loss: 0.0269 - acc: 0.9983\n",
      "Epoch 80/100\n",
      "199364/199364 [==============================] - 34s 172us/step - loss: 0.0269 - acc: 0.9983\n",
      "Epoch 81/100\n",
      "199364/199364 [==============================] - 34s 170us/step - loss: 0.0269 - acc: 0.9983\n",
      "Epoch 82/100\n",
      "199364/199364 [==============================] - 33s 167us/step - loss: 0.0269 - acc: 0.9983\n",
      "Epoch 83/100\n",
      "199364/199364 [==============================] - 34s 171us/step - loss: 0.0269 - acc: 0.9983\n",
      "Epoch 84/100\n",
      "199364/199364 [==============================] - 34s 172us/step - loss: 0.0269 - acc: 0.9983\n",
      "Epoch 85/100\n",
      "199364/199364 [==============================] - 32s 163us/step - loss: 0.0269 - acc: 0.9983\n",
      "Epoch 86/100\n",
      "199364/199364 [==============================] - 33s 167us/step - loss: 0.0269 - acc: 0.9983\n",
      "Epoch 87/100\n",
      "199364/199364 [==============================] - 33s 167us/step - loss: 0.0269 - acc: 0.9983\n",
      "Epoch 88/100\n",
      "199364/199364 [==============================] - 34s 173us/step - loss: 0.0269 - acc: 0.9983\n",
      "Epoch 89/100\n",
      "199364/199364 [==============================] - 34s 171us/step - loss: 0.0269 - acc: 0.9983\n",
      "Epoch 90/100\n",
      "199364/199364 [==============================] - 34s 172us/step - loss: 0.0269 - acc: 0.9983\n",
      "Epoch 91/100\n",
      "199364/199364 [==============================] - 34s 171us/step - loss: 0.0269 - acc: 0.9983\n",
      "Epoch 92/100\n",
      "199364/199364 [==============================] - 34s 168us/step - loss: 0.0269 - acc: 0.9983\n",
      "Epoch 93/100\n",
      "199364/199364 [==============================] - 34s 169us/step - loss: 0.0269 - acc: 0.9983\n",
      "Epoch 94/100\n",
      "199364/199364 [==============================] - 34s 173us/step - loss: 0.0269 - acc: 0.9983\n",
      "Epoch 95/100\n",
      "199364/199364 [==============================] - 34s 171us/step - loss: 0.0269 - acc: 0.9983\n",
      "Epoch 96/100\n",
      "199364/199364 [==============================] - 34s 172us/step - loss: 0.0269 - acc: 0.9983\n",
      "Epoch 97/100\n",
      "199364/199364 [==============================] - 33s 164us/step - loss: 0.0269 - acc: 0.9983\n",
      "Epoch 98/100\n",
      "199364/199364 [==============================] - 32s 163us/step - loss: 0.0269 - acc: 0.9983\n",
      "Epoch 99/100\n",
      "199364/199364 [==============================] - 33s 165us/step - loss: 0.0269 - acc: 0.9983\n",
      "Epoch 100/100\n",
      "199364/199364 [==============================] - 33s 163us/step - loss: 0.0269 - acc: 0.9983\n"
     ]
    },
    {
     "data": {
      "text/plain": [
       "<keras.callbacks.History at 0x235f3652828>"
      ]
     },
     "execution_count": 22,
     "metadata": {},
     "output_type": "execute_result"
    }
   ],
   "source": [
    "classifier = Sequential()\n",
    "classifier.add(Dense(units =15 , kernel_initializer = 'uniform', activation = 'relu', input_dim = 30))\n",
    "classifier.add(Dense(units = 15, kernel_initializer = 'uniform', activation = 'relu'))\n",
    "classifier.add(Dense(units = 1, kernel_initializer = 'uniform', activation = 'sigmoid'))\n",
    "classifier.compile(optimizer = 'adam', loss = 'binary_crossentropy', metrics = ['accuracy'])\n",
    "classifier.fit(train_X, train_y, batch_size = 20, epochs = 100)"
   ]
  },
  {
   "cell_type": "code",
   "execution_count": 24,
   "metadata": {},
   "outputs": [
    {
     "name": "stdout",
     "output_type": "stream",
     "text": [
      "85443/85443 [==============================] - 4s 41us/step\n"
     ]
    },
    {
     "data": {
      "text/plain": [
       "[0.029994095532518007, 0.998139110284049]"
      ]
     },
     "execution_count": 24,
     "metadata": {},
     "output_type": "execute_result"
    }
   ],
   "source": [
    "score = classifier.evaluate(test_X, test_y)\n",
    "score"
   ]
  },
  {
   "cell_type": "code",
   "execution_count": null,
   "metadata": {},
   "outputs": [],
   "source": []
  }
 ],
 "metadata": {
  "kernelspec": {
   "display_name": "Python 3",
   "language": "python",
   "name": "python3"
  },
  "language_info": {
   "codemirror_mode": {
    "name": "ipython",
    "version": 3
   },
   "file_extension": ".py",
   "mimetype": "text/x-python",
   "name": "python",
   "nbconvert_exporter": "python",
   "pygments_lexer": "ipython3",
   "version": "3.7.3"
  }
 },
 "nbformat": 4,
 "nbformat_minor": 2
}
